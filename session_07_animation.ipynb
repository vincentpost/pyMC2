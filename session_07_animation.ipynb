{
 "cells": [
  {
   "cell_type": "code",
   "execution_count": null,
   "metadata": {},
   "outputs": [],
   "source": [
    "import matplotlib.animation as animation\n",
    "import matplotlib.pyplot as plt\n",
    "import numpy as np\n",
    "import pandas as pd"
   ]
  },
  {
   "cell_type": "code",
   "execution_count": null,
   "metadata": {},
   "outputs": [],
   "source": [
    "xyz = np.loadtxt(\"data/bathymetry.txt\")\n",
    "xyz.shape\n",
    "X = xyz[0, :].reshape((98, 135))\n",
    "Y = xyz[1, :].reshape((98, 135))\n",
    "zi = xyz[2, :].reshape((98, 135))"
   ]
  },
  {
   "cell_type": "code",
   "execution_count": null,
   "metadata": {},
   "outputs": [],
   "source": [
    "fig, ax = plt.subplots(figsize=(10, 8))\n",
    "\n",
    "ax.contourf(X, Y, zi, cmap=\"Greys\", alpha=0.1)\n",
    "zi_max = -2\n",
    "zi_masked = np.ma.masked_where(zi > zi_max, zi)\n",
    "ax.pcolor(X, Y, zi_masked)\n"
   ]
  },
  {
   "cell_type": "code",
   "execution_count": null,
   "metadata": {},
   "outputs": [],
   "source": [
    "# read the data from excel using pandas\n",
    "df = pd.read_excel('data/water_balance_data.xlsx',\n",
    "                   index_col=0,\n",
    "                   parse_dates=True)\n",
    "df.head()"
   ]
  },
  {
   "cell_type": "code",
   "execution_count": null,
   "metadata": {},
   "outputs": [],
   "source": [
    "fig, ax = plt.subplots(figsize=(10, 8))\n",
    "\n",
    "cf = ax.contourf(X, Y, zi, cmap=\"Greys\", alpha=0.1)\n",
    "pc = ax.pcolor(X, Y, zi)\n",
    "\n",
    "def update_plot(df_index):\n",
    "    global X, Y, zi, pc, wl_min, wl_max\n",
    "\n",
    "    wl_i = df.loc[df_index, 'wl']\n",
    "    \n",
    "    pc.remove()\n",
    "    zi_masked = np.ma.masked_where(zi > wl_i, zi)\n",
    "    pc = ax.pcolor(X, Y, zi_masked, vmin=wl_min, vmax=wl_max)\n",
    "\n",
    "wl_min = np.nanmin(zi)\n",
    "wl_max = -0.2\n",
    "# levels = np.arange(-2.2, -.2, 0.02)\n",
    "\n",
    "ani = animation.FuncAnimation(\n",
    "    fig, \n",
    "    update_plot, \n",
    "    frames=df.index, \n",
    "    repeat=True,\n",
    ")\n",
    "\n",
    "# Save the animation as an animated gif file\n",
    "ani.save(\"bathymetry_simple.gif\")"
   ]
  },
  {
   "cell_type": "code",
   "execution_count": null,
   "metadata": {},
   "outputs": [],
   "source": [
    "fig, (ax0, ax1) = plt.subplots(\n",
    "    nrows=2, \n",
    "    figsize=(10, 8),\n",
    "    gridspec_kw={'height_ratios': [1, 4]},\n",
    ")\n",
    "\n",
    "ax2 = plt.axes([0.175, 0.15, 0.2, 0.2])\n",
    "\n",
    "wl_0 = df[\"wl\"].iloc[0]\n",
    "\n",
    "ax0.plot(df.index, df[\"wl\"])\n",
    "hl = ax0.axhline(wl_0, color='k')\n",
    "vl = ax0.axvline(df.index[0], color='k')\n",
    "\n",
    "ax0.set_ylim(-1.4, -0.4)\n",
    "ax0.set_ylabel(\"Water level\")\n",
    "\n",
    "row = 70\n",
    "x_xs = X[row]\n",
    "z_xs = zi[row]\n",
    "ax2.plot(x_xs, z_xs, 'k')\n",
    "ax1.axhline(Y[row, 0])\n",
    "fb = ax2.fill_between(x_xs[z_xs <= wl_0], z_xs[z_xs <= wl_0], wl_0)\n",
    "ax2.set_xticks([])\n",
    "\n",
    "cf = ax1.contourf(X, Y, zi, cmap=\"Greys\", alpha=0.1)\n",
    "pc = ax1.pcolor(X, Y, zi)\n",
    "\n",
    "def update_plot(df_index):\n",
    "    global X, Y, zi, pc, hl, vl, fb, df, wl_min, wl_max\n",
    "    \n",
    "    wl_i = df.loc[df_index, 'wl']\n",
    "    \n",
    "    hl.remove()\n",
    "    hl = ax0.axhline(wl_i, color='lightgray', lw=1)\n",
    "\n",
    "    vl.remove()\n",
    "    vl = ax0.axvline(df_index, color='lightgray', lw=1)\n",
    "\n",
    "    fb.remove()\n",
    "    fb = ax2.fill_between(x_xs[z_xs <= wl_i], z_xs[z_xs <= wl_i], wl_i, color='C0')\n",
    "\n",
    "    pc.remove()\n",
    "    zi_masked = np.ma.masked_where(zi > wl_i, zi)\n",
    "    pc = ax1.pcolor(X, Y, zi_masked, vmin=wl_min, vmax=wl_max)\n",
    "\n",
    "\n",
    "wl_min = np.nanmin(zi)\n",
    "wl_max = -0.2\n",
    "# levels = np.arange(-2.2, -.2, 0.02)\n",
    "\n",
    "ani = animation.FuncAnimation(\n",
    "    fig, \n",
    "    update_plot, \n",
    "    frames=df['wl'].index, \n",
    "    repeat=True,\n",
    ")\n",
    "\n",
    "# Save the animation as an animated gif file\n",
    "ani.save(\"bathymetry_fancier.gif\")"
   ]
  }
 ],
 "metadata": {
  "kernelspec": {
   "display_name": "geopandas_env",
   "language": "python",
   "name": "python3"
  },
  "language_info": {
   "codemirror_mode": {
    "name": "ipython",
    "version": 3
   },
   "file_extension": ".py",
   "mimetype": "text/x-python",
   "name": "python",
   "nbconvert_exporter": "python",
   "pygments_lexer": "ipython3",
   "version": "3.9.16"
  },
  "orig_nbformat": 4
 },
 "nbformat": 4,
 "nbformat_minor": 2
}
