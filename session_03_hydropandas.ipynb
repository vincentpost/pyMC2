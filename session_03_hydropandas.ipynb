{
 "cells": [
  {
   "attachments": {},
   "cell_type": "markdown",
   "metadata": {},
   "source": [
    "## Hydropandas\n",
    "\n",
    "Hydropandas is a Python package for reading, writing and analyzing hydrological time series. Just like any Python package you will have to install it the first time you use it."
   ]
  },
  {
   "cell_type": "code",
   "execution_count": null,
   "metadata": {},
   "outputs": [],
   "source": [
    "# install the hydropandas package (you only have to do this once)\n",
    "! pip install hydropandas"
   ]
  },
  {
   "cell_type": "code",
   "execution_count": null,
   "metadata": {},
   "outputs": [],
   "source": [
    "# import all the packages required for this notebook\n",
    "# if you get an import error try installing this package using pip or conda\n",
    "\n",
    "import hydropandas as hpd\n",
    "import pandas as pd\n",
    "import numpy as np\n",
    "from bokeh.io import show"
   ]
  },
  {
   "attachments": {},
   "cell_type": "markdown",
   "metadata": {},
   "source": [
    "## Groundwater Observation\n",
    "\n",
    "You can create a GroundwaterObs object using the Hydropandas package. To do this you define a measurement time series and the metadata of the observation well. See the example below."
   ]
  },
  {
   "cell_type": "code",
   "execution_count": null,
   "metadata": {},
   "outputs": [],
   "source": [
    "hpd.GroundwaterObs?"
   ]
  },
  {
   "cell_type": "code",
   "execution_count": null,
   "metadata": {},
   "outputs": [],
   "source": [
    "# Create a groundwater observation object from scratch\n",
    "o = hpd.GroundwaterObs(index=pd.date_range('1-1-2023', '13-1-2023'), \n",
    "                      data=np.random.randint(0,10, size= (13,1)),\n",
    "                      columns=['values'],\n",
    "                      name='my observation', monitoring_well='w1',\n",
    "                      screen_top=35.2, screen_bottom=32.2,\n",
    "                      x=123456, y=654321, unit='MASL', tube_nr=1, \n",
    "                      metadata_available=True)\n",
    "print(o)"
   ]
  },
  {
   "attachments": {},
   "cell_type": "markdown",
   "metadata": {},
   "source": [
    "For some Dutch hydrological databases we can use the API to automatically download the data using the ID. The example below shows how to obtain the measurement data using an ID from the BRO database."
   ]
  },
  {
   "cell_type": "code",
   "execution_count": null,
   "metadata": {},
   "outputs": [],
   "source": [
    "# obtain a groundwater observation from the BRO (Dutch) database\n",
    "o = hpd.GroundwaterObs.from_bro('GLD000000012893')\n",
    "print(o)"
   ]
  },
  {
   "attachments": {},
   "cell_type": "markdown",
   "metadata": {},
   "source": [
    "`o` is now a GroundwaterObs object. A GroundwaterObs object has the same attributes and methods as a pandas DataFrame. We can use these methods to do some analysis."
   ]
  },
  {
   "cell_type": "code",
   "execution_count": null,
   "metadata": {},
   "outputs": [],
   "source": [
    "# get some statistics of the observations\n",
    "o['values'].describe()"
   ]
  },
  {
   "attachments": {},
   "cell_type": "markdown",
   "metadata": {},
   "source": [
    "Additionally a GroundwaterObs object has some extra attributes:\n",
    "- \"name\"\n",
    "- \"x\"\n",
    "- \"y\"\n",
    "- \"source\"\n",
    "- \"unit\"\n",
    "- \"monitoring_well\"\n",
    "- \"tube_nr\"\n",
    "- \"screen_top\"\n",
    "- \"screen_bottom\"\n",
    "- \"ground_level\"\n",
    "- \"tube_top\"\n",
    "\n",
    "We can use these attributes, for example when plotting the data. Below we use the \"unit\" and \"name\" attribute when plotting the time series."
   ]
  },
  {
   "cell_type": "code",
   "execution_count": null,
   "metadata": {},
   "outputs": [],
   "source": [
    "# plot the data\n",
    "o['values'].plot(ylabel=o.unit, label=o.name, \n",
    "                 legend=True, figsize=(13,6), grid=True);"
   ]
  },
  {
   "cell_type": "code",
   "execution_count": null,
   "metadata": {},
   "outputs": [],
   "source": [
    "# filter data based on the qualifier, 'goedgekeurd' means 'approved'.\n",
    "o_selection = o.loc[o['qualifier']=='goedgekeurd']\n",
    "# plot filtered data\n",
    "o_selection.plot();"
   ]
  },
  {
   "attachments": {},
   "cell_type": "markdown",
   "metadata": {},
   "source": [
    "## ObsCollection\n",
    "\n",
    "In a project you usualy you have multiple wells with measurements. In Hydropandas we can store a number of GroundwaterObs object in an ObsCollection object. We demonstrate this using the code below."
   ]
  },
  {
   "cell_type": "code",
   "execution_count": null,
   "metadata": {},
   "outputs": [],
   "source": [
    "# create one GroundwaterObs object\n",
    "o1 = hpd.GroundwaterObs(index=pd.date_range('1-1-2023', '13-1-2023'), \n",
    "                        data=np.random.randint(0,10, size= (13,1)),\n",
    "                         columns=['values'],\n",
    "                        name='my observation 1', monitoring_well='w1',\n",
    "                        screen_top=35.2, screen_bottom=32.2,\n",
    "                        x=123456, y=654321, unit='MASL', tube_nr=1, \n",
    "                        metadata_available=True)\n",
    "\n",
    "# create another GroundwaterObs object\n",
    "o2 = hpd.GroundwaterObs(index=pd.date_range('2021-5-1', '2021-5-13'), \n",
    "                        data=np.random.randint(15,30, size= (13,1)),\n",
    "                         columns=['values'],\n",
    "                         name='my observation 2', monitoring_well='w2',\n",
    "                        screen_top=6.7, screen_bottom=2.7,\n",
    "                        x=123465, y=654312, unit='MASL', tube_nr=1, \n",
    "                        metadata_available=True)\n",
    "\n",
    "# store both GroundwaterObs object in an ObsCollection\n",
    "oc = hpd.ObsCollection(o1,o2)\n",
    "oc"
   ]
  },
  {
   "attachments": {},
   "cell_type": "markdown",
   "metadata": {},
   "source": [
    "Just as with the GroundwaterObs object for some Dutch databases we can use the API to automatically download an ObsCollection. The example below shows how to obtain multiple observations within a certain extent from the BRO database."
   ]
  },
  {
   "cell_type": "code",
   "execution_count": null,
   "metadata": {},
   "outputs": [],
   "source": [
    "oc = hpd.read_bro(extent=(117850, 118180, 439550, 439900), keep_all_obs=False)\n",
    "oc"
   ]
  },
  {
   "attachments": {},
   "cell_type": "markdown",
   "metadata": {},
   "source": [
    "You can see that all the additional attributes of a GroundwaterObs object are used as columns in the ObsCollection. The last 'obs' column contains the GroundwaterObs object itself. We can get this groundwater obs object using the usual pandas methods of indexing, slicing and subselecting. See two examples below."
   ]
  },
  {
   "cell_type": "code",
   "execution_count": null,
   "metadata": {},
   "outputs": [],
   "source": [
    "# get the groundwater observation with name 'GMW000000036327_1'\n",
    "o = oc.loc['GMW000000036327_1','obs']\n",
    "print(o)"
   ]
  },
  {
   "cell_type": "code",
   "execution_count": null,
   "metadata": {},
   "outputs": [],
   "source": [
    "# get all the groundwater observations with a screen bottom below NAP -1.5 m\n",
    "oc.loc[oc['screen_bottom'] < -1.5]"
   ]
  },
  {
   "attachments": {},
   "cell_type": "markdown",
   "metadata": {},
   "source": [
    "Just like a GroundwaterObs obejct an ObsCollection object has the same attributes and methods as a pandas DataFrame. Additionally an ObsCollection object has methods stored in submodules:\n",
    "`geo`:\n",
    "- `get_bounding_box` -> get a tuple with (xmin, ymin, xmax, ymax)\n",
    "- `get_extent` -> get a tule with (xmin, xmax, ymin, ymax)\n",
    "- `get_lat_lon` -> to get the lattitudes and longitudes from the x and y coordinates\n",
    "- `within_polygon` -> to select only the observations that lie within a polygon\n",
    "\n",
    "`gwobs`:\n",
    "- `set_tube_nr` -> to set the tube numbers based on the tube screen depth when there are multiple tubes at one monitoring well\n",
    "- `set_tube_nr_monitoring_well` -> find out which observations are at the same location with a different screen depth. Set monitoring_well and tube_nr attributes accordingly.\n",
    "\n",
    "`plots`:\n",
    "- `interactive_figures` -> create bokeh figures for each observation point.\n",
    "- `interactive_map` -> create a folium map with observation points and bokeh figures for each observation point.\n",
    "- `section_plot` -> create a plot of multiple observations and a plot of the well layout.\n",
    "\n",
    "`stats`:\n",
    "- `get_first_last_obs_date()` -> get the first and the last date of the observations for each observation point\n",
    "- `get_no_of_observations()` -> get the number of observations\n",
    "- `get_seasonal_stat()` -> get seasonal stats of the observations"
   ]
  },
  {
   "attachments": {},
   "cell_type": "markdown",
   "metadata": {},
   "source": [
    "In the example below we use the `set_lat_lon` method in the `geo` module to get the lattitude and longitude for our observations. Then we use the `interactive_map` method of the `plots` module to create an interactive map with graphs for each observation."
   ]
  },
  {
   "cell_type": "code",
   "execution_count": null,
   "metadata": {},
   "outputs": [],
   "source": [
    "oc.geo.set_lat_lon() # get lattitude and lognitude for each observation\n",
    "oc.plots.interactive_map(plot_dir=\"figure\") # create an interactive map"
   ]
  },
  {
   "attachments": {},
   "cell_type": "markdown",
   "metadata": {},
   "source": [
    "More information on Hydropandas can be found in the official [documentation](#https://hydropandas.readthedocs.io/en/stable/)."
   ]
  }
 ],
 "metadata": {
  "kernelspec": {
   "display_name": "Python 3 (ipykernel)",
   "language": "python",
   "name": "python3"
  },
  "language_info": {
   "codemirror_mode": {
    "name": "ipython",
    "version": 3
   },
   "file_extension": ".py",
   "mimetype": "text/x-python",
   "name": "python",
   "nbconvert_exporter": "python",
   "pygments_lexer": "ipython3",
   "version": "3.9.4"
  }
 },
 "nbformat": 4,
 "nbformat_minor": 4
}
