{
 "cells": [
  {
   "cell_type": "markdown",
   "metadata": {},
   "source": [
    "## Homework exercise 1\n",
    "\n",
    "Modify the definition of the Course class by adding a method `remove_person` that removes a person from either the `_attendees` or `_instructors` lists. Test your code by adding some persons first, then list the people in the course using the `list_persons` method, then call the new `remove_person` method, followed by the `list_persons` method once more to verify that the function worked as intended.\n",
    "\n",
    "*Hint*: To remove an item from a list use its `pop` method. To find the item's position in the list, use the`index` method."
   ]
  },
  {
   "cell_type": "code",
   "execution_count": null,
   "metadata": {},
   "outputs": [],
   "source": [
    "class Person:\n",
    "    def __init__(self, name, age, nationality):\n",
    "        self.name = name\n",
    "        self.age = age\n",
    "        self.nationality = nationality\n",
    "    \n",
    "    def introduce_yourself(self):\n",
    "        print(f\"Hello, my name is {self.name} and I am {self.age} years old.\")\n",
    "    \n",
    "    def __str__(self):\n",
    "        return f\"Name: {self.name}, age: {self.age}, nationality: {self.nationality}\"\n",
    "        \n",
    "# Modify the code below\n",
    "\n",
    "class Course:\n",
    "    def __init__(self):\n",
    "        self._attendees = []\n",
    "        self._instructors = []\n",
    "    \n",
    "    def add_person(self, person, role=\"attendee\"):\n",
    "        if role == \"attendee\":\n",
    "            self._attendees.append(person)\n",
    "        elif role == \"instructor\":\n",
    "            self._instructors.append(person)\n",
    "\n",
    "    def remove_person(self, person):\n",
    "        if person in self._attendees:\n",
    "            i = self._attendees.index(person)\n",
    "            person_removed = self._attendees.pop(i)\n",
    "            \n",
    "        if person in self._instructors:\n",
    "            i = self._instructors.index(person)\n",
    "            person_removed = self._instructors.pop(i)\n",
    "        \n",
    "        print(f\"{person_removed.name} was removed from the course.\")\n",
    "\n",
    "    def list_persons(self):\n",
    "        print(\"Attendees\")\n",
    "        for person in self._attendees:\n",
    "            print('\\t', person)\n",
    "        print(\"Instructors\")\n",
    "        for person in self._instructors:\n",
    "            print('\\t', person)"
   ]
  },
  {
   "cell_type": "code",
   "execution_count": null,
   "metadata": {},
   "outputs": [],
   "source": [
    "# Initialize the class, add some persons and call list_persons to \n",
    "# show who's in the course\n",
    "\n",
    "# Define persons\n",
    "vincent = Person(\"vincent\", 29, \"Dutch\")\n",
    "onno = Person(\"Onno\", 23, \"Dutch\")\n",
    "michael = Person(\"Michael\", 23, \"Australian\")\n",
    "stacey = Person(\"Stacey\", 23, \"Australian\")\n",
    "\n",
    "PythonMasterclass = Course()\n",
    "PythonMasterclass.add_person(michael)\n",
    "PythonMasterclass.add_person(stacey)\n",
    "PythonMasterclass.add_person(vincent, role=\"instructor\")\n",
    "PythonMasterclass.add_person(onno, role=\"instructor\")\n",
    "PythonMasterclass.list_persons()"
   ]
  },
  {
   "cell_type": "code",
   "execution_count": null,
   "metadata": {},
   "outputs": [],
   "source": [
    "# Remove Michael from the course (sorry Michael...)\n",
    "PythonMasterclass.remove_person(michael)\n",
    "\n",
    "PythonMasterclass.list_persons()"
   ]
  },
  {
   "cell_type": "markdown",
   "metadata": {},
   "source": [
    "## Homework exercise 2 (optional)\n",
    "\n",
    "Study the definition of the Person and Course classes as discussed during the online session. Define a class for a well that is analogous to the Person class. The well class should have the following properties: x and y coordinates, an extraction rate and a casing radius. Also define a class for a well field, which can contain multiple wells. Define a __str__ method for both classes that produces an informative string about the class properties. Check if your code runs properly by creating instances of your classes.\n",
    "Note, you do not have to go with the well and well field classes: You can also come up with an idea of your own. For example, a collection of locks and weirs in a river, or streams within a catchment. Anything goes, the main aim is to practice the definition of classes."
   ]
  },
  {
   "cell_type": "code",
   "execution_count": null,
   "metadata": {},
   "outputs": [],
   "source": [
    "import matplotlib.pyplot as plt\n",
    "import numpy as np\n",
    "\n",
    "# Define the well class\n",
    "class Well:\n",
    "    \n",
    "    def __init__(self, x0, y0, Q, rw): # editor.inlayHints.enabled\n",
    "    \n",
    "        self._x0 = float(x0)\n",
    "        self._y0 = float(y0)\n",
    "        self._rw = rw \n",
    "        self._rwsq = rw ** 2\n",
    "        self._Q = Q\n",
    "\n",
    "    def __str__(self):\n",
    "        return \"Well xw, yw, Q, rw: \" + str((self._x0, self._y0, self._Q, self._rw))\n",
    "\n",
    "    def head(self, x, y, T):\n",
    "        rsq = (x - self._x0) ** 2 + (y - self._y0) ** 2\n",
    "        rsq[rsq < self._rwsq] = self._rwsq\n",
    "        return self._Q / (4 * np.pi * T) * np.log(rsq / self._rwsq)\n",
    "    \n"
   ]
  },
  {
   "cell_type": "code",
   "execution_count": null,
   "metadata": {},
   "outputs": [],
   "source": [
    "# Create four instances\n",
    "w1 = Well(-100, -100, 100, .1)\n",
    "w2 = Well( 100, -100, 100, .1)\n",
    "w3 = Well( 100, 100, 100, .1)\n",
    "w4 = Well(-100, 100, 100, .1)"
   ]
  },
  {
   "cell_type": "code",
   "execution_count": null,
   "metadata": {},
   "outputs": [],
   "source": [
    "# Define the WellField class\n",
    "class WellField:\n",
    "    def __init__(self, wells, T):\n",
    "        self._transmissivity = T\n",
    "        self._wells = wells\n",
    "\n",
    "    def calculate(self, x, y):\n",
    "        h = np.zeros_like(x)\n",
    "        for w in self._wells: \n",
    "            h = h + w.head(x, y, self._transmissivity)\n",
    "        \n",
    "        return h\n",
    "\n",
    "    def plot(self, x, y):\n",
    "        h = self.calculate(x, y)\n",
    "\n",
    "        fig, ax = plt.subplots()\n",
    "        cf = ax.contourf(x, y, h)\n",
    "        cs = ax.contour(x, y, h, 10, colors='w')\n",
    "        ax.clabel(cs)\n",
    "        ax.axis(\"scaled\")\n",
    "        plt.colorbar(cf)\n",
    "        ax.set_title(\"Head\")\n",
    "        ax.set_xlabel(\"X (m)\")\n",
    "        ax.set_ylabel(\"Y (m)\")"
   ]
  },
  {
   "cell_type": "code",
   "execution_count": null,
   "metadata": {},
   "outputs": [],
   "source": [
    "# Initialize the WellField object\n",
    "wf = WellField(wells=[w1, w2, w3, w4], T=100)\n",
    "\n",
    "# Define a set of grid points for which to calculate the heads\n",
    "x, y = np.meshgrid(np.linspace(-250, 250, 101), np.linspace(-250, 250, 101))\n",
    "wf.plot(x, y)\n",
    "\n",
    "# Needed in VSC to show the figure\n",
    "plt.show()"
   ]
  }
 ],
 "metadata": {
  "kernelspec": {
   "display_name": "Python 3 (ipykernel)",
   "language": "python",
   "name": "python3"
  },
  "language_info": {
   "codemirror_mode": {
    "name": "ipython",
    "version": 3
   },
   "file_extension": ".py",
   "mimetype": "text/x-python",
   "name": "python",
   "nbconvert_exporter": "python",
   "pygments_lexer": "ipython3",
   "version": "3.9.17"
  }
 },
 "nbformat": 4,
 "nbformat_minor": 4
}
