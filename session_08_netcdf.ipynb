{
 "cells": [
  {
   "cell_type": "markdown",
   "metadata": {},
   "source": [
    "# Working with NetCDF data\n",
    "\n",
    "NetCDF is shorthand for Network Common Data Form and is frequently used to distribute large amounts of array-like data. This notebook explains the basics of the netCDF4 package in Python and shows how an online NetCDF dataset can be downloaded and visualised.\n",
    "\n",
    "Let's import the required packages first.\n"
   ]
  },
  {
   "cell_type": "code",
   "execution_count": null,
   "metadata": {},
   "outputs": [],
   "source": [
    "import matplotlib.pyplot as plt\n",
    "import numpy as np\n",
    "import urllib\n",
    "\n",
    "import netCDF4 as nc"
   ]
  },
  {
   "cell_type": "markdown",
   "metadata": {},
   "source": [
    "Let's look at the basics of the netCDF4 package by revisiting the dam bathymetry example once more. We first load the saved surface height data. Note that the `X` and `Y` arrays are two-dimensional, but for a NetCDF file, only one-dimensional arrays of unique x and y values are required. We therefore select one row from `X` and one column from `Y`. The surface heights are stored in a two-dimensional array."
   ]
  },
  {
   "cell_type": "code",
   "execution_count": null,
   "metadata": {},
   "outputs": [],
   "source": [
    "xyz = np.loadtxt(\"data/bathymetry.txt\")\n",
    "\n",
    "X = xyz[0, :].reshape((98, 135))\n",
    "Y = xyz[1, :].reshape((98, 135))\n",
    "\n",
    "xi = X[0, :]\n",
    "yi = Y[:, 0]\n",
    "zi = xyz[2, :].reshape((98, 135))\n"
   ]
  },
  {
   "cell_type": "markdown",
   "metadata": {},
   "source": [
    "The basis for creating a NetCDF file is a structure known as a Dataset. It defines the dimensions and stores the data in variables. The dimensions are typically time and space, the latter in the form of x and y coordinates like easting and northing (for UTM), or longitude and latitude. After creation of the Dataset, information about the dimensions is added using the `createDimension` method."
   ]
  },
  {
   "cell_type": "code",
   "execution_count": null,
   "metadata": {},
   "outputs": [],
   "source": [
    "fn = 'data/bathymetry.nc'\n",
    "ds = nc.Dataset(fn, 'w', format='NETCDF4')\n",
    "\n",
    "time = ds.createDimension(dimname='time', size=None)\n",
    "northing = ds.createDimension(dimname='northing', size=len(yi))\n",
    "easting = ds.createDimension(dimname='easting', size=len(xi))"
   ]
  },
  {
   "cell_type": "markdown",
   "metadata": {},
   "source": [
    "After adding the dimensions, variables are added. Note that the time, northing and easting also appear as variables (now containing their numerical values). Adding variables is done using `createVariable`. The units are set to meters after the variable is created. When the Dataset is closed, the NetCDF file is saved to disk."
   ]
  },
  {
   "cell_type": "code",
   "execution_count": null,
   "metadata": {},
   "outputs": [],
   "source": [
    "times = ds.createVariable(varname='times', datatype='f4', dimensions=('time',))\n",
    "northings = ds.createVariable(varname='northings', datatype='f4', dimensions=('northing',))\n",
    "eastings = ds.createVariable(varname='eastings', datatype='f4', dimensions=('easting',))\n",
    "value = ds.createVariable(varname='surface_heights', datatype='f4', dimensions=('time', 'northing', 'easting',))\n",
    "value.units = 'm'\n",
    "\n",
    "northings[:] = yi\n",
    "eastings[:] = xi\n",
    "\n",
    "print('var size before adding data', value.shape)\n",
    "\n",
    "value[0, :, :] = zi\n",
    "\n",
    "print('var size after adding first data', value.shape)\n",
    "\n",
    "ds.close()"
   ]
  },
  {
   "cell_type": "markdown",
   "metadata": {},
   "source": [
    "Let's load the saved file and inspect the variable names. The variables are stored in a dictionary, so the variable names can be displayed using the `keys()` method."
   ]
  },
  {
   "cell_type": "code",
   "execution_count": null,
   "metadata": {},
   "outputs": [],
   "source": [
    "ds = nc.Dataset(fn)\n",
    "ds.variables.keys()"
   ]
  },
  {
   "cell_type": "markdown",
   "metadata": {},
   "source": [
    "Finally we plot the data to check if they were saved correctly"
   ]
  },
  {
   "cell_type": "code",
   "execution_count": null,
   "metadata": {},
   "outputs": [],
   "source": [
    "xi = ds.variables['eastings'] \n",
    "yi = ds.variables['northings']\n",
    "zi = ds.variables['surface_heights']\n",
    "zi = zi[0, :, :]\n",
    "\n",
    "fig, ax = plt.subplots()\n",
    "pc = ax.pcolor(xi, yi, zi)\n",
    "plt.colorbar(pc, ax=ax)\n",
    "ax.set_xlabel(\"Easting\")\n",
    "ax.set_ylabel(\"Northing\")\n",
    "ax.set_title(\"Surface height\");"
   ]
  },
  {
   "cell_type": "markdown",
   "metadata": {},
   "source": [
    "## Retrieving online NetCDF data\n",
    "\n",
    "Now let's see if we can download a NetCDF file from an online server and plot the data. The details on how to do this may vary depeding on the data repository so the example below just serves as a general guide. The example data can be found <A href=\"https://www.climatechangeinaustralia.gov.au/en/obtain-data/download-datasets/#Change\">here</A> and represent climate change projections released in 2015 (therefore, they are likely to be superseded by newer projections but the key point is to demonstrate the Python code).\n",
    "\n",
    "The first step is to figure out the url to use. In this case, it can be inferred from the dataset catalogue, which is accessible via <A href=\"https://dap.nci.org.au/thredds/remoteCatalogService?catalog=https://dapds00.nci.org.au/thredds/catalog/ua6_4/CMIP5/derived/Collections/Projected_Change_Data/catalog.xml\">https://dap.nci.org.au/thredds/remoteCatalogService?catalog=https://dapds00.nci.org.au/thredds/catalog/ua6_4/CMIP5/derived/Collections/Projected_Change_Data/catalog.xml</A>.\n",
    "\n",
    "With the right url, the data can be downloaded to a local file using `urlretrieve` from Python's native `urllib` library. This stores the NetCDF file locally (unlike the `get` method from the `requests` library that we used in earlier sessions)."
   ]
  },
  {
   "cell_type": "code",
   "execution_count": null,
   "metadata": {},
   "outputs": [],
   "source": [
    "url = \"https://dapds00.nci.org.au/thredds/fileServer/ua6_4/CMIP5/derived/Collections/Projected_Change_Data/Maximum_Temperature/2020-2039/tasmax_Amon_ACCESS1-0_rcp45_r1i1p1_2020-2039-abs-change-wrt-1986-2005-seasavg-clim_native.nc\"\n",
    "local_filename = \"tasmax_Amon_ACCESS1-0_rcp45_r1i1p1_2020-2039-abs-change-wrt-1986-2005-seasavg-clim_native.nc\"\n",
    "urllib.request.urlretrieve(url, local_filename);"
   ]
  },
  {
   "cell_type": "markdown",
   "metadata": {},
   "source": [
    "Just like before, the NetCDF file can be opened using `Dataset` from netCDF4 and the variable names can be displayed as keys."
   ]
  },
  {
   "cell_type": "code",
   "execution_count": null,
   "metadata": {},
   "outputs": [],
   "source": [
    "ds = nc.Dataset(local_filename)\n",
    "ds.variables.keys()"
   ]
  },
  {
   "cell_type": "markdown",
   "metadata": {},
   "source": [
    "To get an idea of the data, let's just plot one of the variables in this case `tasmax_annual`"
   ]
  },
  {
   "cell_type": "code",
   "execution_count": null,
   "metadata": {},
   "outputs": [],
   "source": [
    "lat = ds.variables['lat']\n",
    "lon = ds.variables['lon']\n",
    "z = ds.variables['tasmax_annual']\n",
    "z = z[0, :, :]\n",
    "\n",
    "X, Y = np.meshgrid(lat, lon)\n",
    "fig, ax = plt.subplots()\n",
    "\n",
    "pc = ax.pcolor(lon, lat, z)\n",
    "plt.colorbar(pc, ax=ax)\n",
    "ax.set_xlabel(\"Longitude\")\n",
    "ax.set_ylabel(\"Latitude\")\n",
    "ax.set_title(\"Projected 2020-2039 max temperature\")"
   ]
  },
  {
   "cell_type": "markdown",
   "metadata": {},
   "source": [
    "***Homework exercise***: Create a 4 row by 3 column figure with displays the projected maximum temperature for each month of the year. *Hint: create a list with the names of the months and use a `for` loop to step over each of the variables. Look up the documentation of the Matplotlib `subplots` function to understand how to access the subplots in a 4x3 figure.*"
   ]
  },
  {
   "cell_type": "code",
   "execution_count": null,
   "metadata": {},
   "outputs": [],
   "source": [
    "# Type your code here"
   ]
  }
 ],
 "metadata": {
  "kernelspec": {
   "display_name": "geopandas_env",
   "language": "python",
   "name": "python3"
  },
  "language_info": {
   "codemirror_mode": {
    "name": "ipython",
    "version": 3
   },
   "file_extension": ".py",
   "mimetype": "text/x-python",
   "name": "python",
   "nbconvert_exporter": "python",
   "pygments_lexer": "ipython3",
   "version": "3.9.17"
  },
  "orig_nbformat": 4
 },
 "nbformat": 4,
 "nbformat_minor": 2
}
