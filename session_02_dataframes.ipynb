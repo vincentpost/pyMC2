{
 "cells": [
  {
   "attachments": {},
   "cell_type": "markdown",
   "metadata": {},
   "source": [
    "# Session 2 DataFrames and Pandas\n",
    "\n",
    "This notebook provides a brief introduction to Pandas. Pandas is a package for data analysis and manipulation. It organises data in tabular form in a structure called a DataFrame. Before looking at this, let's define some data in the form of two lists (containing respectively the average height of some tall people aged between 11 and 18)."
   ]
  },
  {
   "cell_type": "code",
   "execution_count": null,
   "metadata": {},
   "outputs": [],
   "source": [
    "height_list = [150, 155, 164, 174, 183, 189, 192, 192]\n",
    "age_list = [11, 12, 13, 14, 15, 16, 17, 18]"
   ]
  },
  {
   "attachments": {},
   "cell_type": "markdown",
   "metadata": {},
   "source": [
    "The code cells below show some things you can do with this data when it is available in list format:\n",
    "1. get the height at the age of 13\n",
    "2. get the mean height between the ages of 11 and 18\n",
    "3. plot the height vs the age\n",
    "4. convert to inches"
   ]
  },
  {
   "cell_type": "code",
   "execution_count": null,
   "metadata": {},
   "outputs": [],
   "source": [
    "# 1. get the height at the age of 13\n",
    "i = age_list.index(13)\n",
    "height_list[i]"
   ]
  },
  {
   "cell_type": "code",
   "execution_count": null,
   "metadata": {},
   "outputs": [],
   "source": [
    "# 2. get the mean height between the ages of 11 and 18\n",
    "import numpy as np\n",
    "np.mean(height_list)"
   ]
  },
  {
   "cell_type": "code",
   "execution_count": null,
   "metadata": {},
   "outputs": [],
   "source": [
    "# 3. plot the height vs the age\n",
    "import matplotlib.pyplot as plt\n",
    "plt.plot(age_list, height_list)"
   ]
  },
  {
   "cell_type": "code",
   "execution_count": null,
   "metadata": {},
   "outputs": [],
   "source": [
    "# 4. convert to inches\n",
    "height_list_inch = []\n",
    "for h in height_list:\n",
    "    h_inch = h * 0.3937\n",
    "    height_list_inch.append(h_inch)\n",
    "height_list_inch"
   ]
  },
  {
   "attachments": {},
   "cell_type": "markdown",
   "metadata": {},
   "source": [
    "## Pandas Series\n",
    "\n",
    "The code above used various packages and Python instructions to accomplish these tasks. If you store the data as a Pandas `Series` then you can do the same things, but with fewer lines of code."
   ]
  },
  {
   "cell_type": "code",
   "execution_count": null,
   "metadata": {},
   "outputs": [],
   "source": [
    "import pandas as pd\n",
    "\n",
    "# Same as above\n",
    "height_list = [150, 155, 164, 174, 183, 189, 192, 192]\n",
    "age_list = [11, 12, 13, 14, 15, 16, 17, 18]\n",
    "\n",
    "s = pd.Series(\n",
    "    index=age_list,\n",
    "    data=height_list, \n",
    ")\n",
    "s"
   ]
  },
  {
   "cell_type": "code",
   "execution_count": null,
   "metadata": {},
   "outputs": [],
   "source": [
    "# 1. get the height at the age of 13\n",
    "s.loc[13]"
   ]
  },
  {
   "cell_type": "code",
   "execution_count": null,
   "metadata": {},
   "outputs": [],
   "source": [
    "# 2. get the mean height between the ages of 11 and 18\n",
    "s.mean()"
   ]
  },
  {
   "cell_type": "code",
   "execution_count": null,
   "metadata": {},
   "outputs": [],
   "source": [
    "# 3. plot the height vs the age\n",
    "s.plot()"
   ]
  },
  {
   "cell_type": "code",
   "execution_count": null,
   "metadata": {},
   "outputs": [],
   "source": [
    "# 4. convert to inches\n",
    "s_inch = s * 0.3937\n",
    "s_inch"
   ]
  },
  {
   "attachments": {},
   "cell_type": "markdown",
   "metadata": {},
   "source": [
    "***Exercise 1***: We have a table with the price of solar panels expressed as Euro per watt over time. Create a pandas Series and plot the data as a bar chart (see <A href=\"https://pandas.pydata.org/docs/reference/api/pandas.DataFrame.plot.bar.html\">https://pandas.pydata.org/docs/reference/api/pandas.DataFrame.plot.bar.html</A>).\n",
    "\n",
    "| year | cost |\n",
    "|------|------|\n",
    "| 2010 | 7.34 |\n",
    "| 2011 | 6.44 |\n",
    "| 2012 | 4.55 |\n",
    "| 2013 | 3.97 |\n",
    "| 2014 | 3.49 |\n",
    "| 2015 | 3.23 |\n",
    "| 2016 | 3.02 |\n",
    "| 2017 | 2.84 |\n",
    "| 2018 | 2.70 |\n",
    "| 2019 | 2.53 |\n",
    "| 2020 | 2.34 |"
   ]
  },
  {
   "cell_type": "code",
   "execution_count": null,
   "metadata": {},
   "outputs": [],
   "source": [
    "year_list = [2010, 2011, 2012, 2013, 2014, 2015, 2016, 2017, 2018, 2019, 2020]\n",
    "cost_list = [7.34, 6.44, 4.55, 3.97, 3.49, 3.23, 3.02, 2.84, 2.70, 2.53, 2.34]\n",
    "\n",
    "# Add your code here\n"
   ]
  },
  {
   "attachments": {},
   "cell_type": "markdown",
   "metadata": {},
   "source": [
    "## Pandas DataFrame\n",
    "\n",
    "A Pandas Series is basically just one column of data, with its corresponding index. A DataFrame consists of multiple Series and all columns share a common index. In the code cell below, a DataFrame is created with the age data serving as the index. There are two data columns, one with the height and the other with the weight."
   ]
  },
  {
   "cell_type": "code",
   "execution_count": null,
   "metadata": {},
   "outputs": [],
   "source": [
    "weight_list = [42, 46, 50, 53, 55, 58, 62, 65]\n",
    "\n",
    "df = pd.DataFrame(\n",
    "    index=age_list,\n",
    "    data={\n",
    "       'height': height_list,\n",
    "       'weight': weight_list,\n",
    "    },\n",
    ")\n",
    "df"
   ]
  },
  {
   "cell_type": "markdown",
   "metadata": {},
   "source": [
    "As demonstrated earlier, the plot function provides a quick way to inspect the data."
   ]
  },
  {
   "cell_type": "code",
   "execution_count": null,
   "metadata": {},
   "outputs": [],
   "source": [
    "df.plot();"
   ]
  },
  {
   "cell_type": "markdown",
   "metadata": {},
   "source": [
    "Since the numerical values of height and weight differ quite a lot, adding a secondary axis gives a better overview."
   ]
  },
  {
   "cell_type": "code",
   "execution_count": null,
   "metadata": {},
   "outputs": [],
   "source": [
    "df.plot(secondary_y=[\"weight\"]);"
   ]
  },
  {
   "cell_type": "markdown",
   "metadata": {},
   "source": [
    "Adding a column is easy. For example, adding the body mass index (BMI) calculated from the weight and height columns is done in the following way"
   ]
  },
  {
   "cell_type": "code",
   "execution_count": null,
   "metadata": {},
   "outputs": [],
   "source": [
    "df['BMI'] = df['weight'] / ((df['height'] / 100) ** 2)\n",
    "df"
   ]
  },
  {
   "cell_type": "markdown",
   "metadata": {},
   "source": [
    "As the above code cell shows, individual columns can be accessed by typing the column name between square brackets that directly follow the DataFrame name. Another way to get a specific column is to use a dot followed by its name"
   ]
  },
  {
   "cell_type": "code",
   "execution_count": null,
   "metadata": {},
   "outputs": [],
   "source": [
    "df.BMI"
   ]
  },
  {
   "cell_type": "markdown",
   "metadata": {},
   "source": [
    "A specific row can be selected using .loc[*x*], where the value of the index for that row should replace the *x* between the square brackets. For example for second last row the index value is 17 so the statement becomes"
   ]
  },
  {
   "cell_type": "code",
   "execution_count": null,
   "metadata": {},
   "outputs": [],
   "source": [
    "df.loc[17]"
   ]
  },
  {
   "cell_type": "markdown",
   "metadata": {},
   "source": [
    "To get a specific value from a row column pair, both the index value and the column name can be provided"
   ]
  },
  {
   "cell_type": "code",
   "execution_count": null,
   "metadata": {},
   "outputs": [],
   "source": [
    "df.loc[17, \"BMI\"]"
   ]
  },
  {
   "cell_type": "markdown",
   "metadata": {},
   "source": [
    "***Exercise 2***: Modify the code cell above so that you obtain both the height and the BMI for a row using a single line of code."
   ]
  },
  {
   "cell_type": "code",
   "execution_count": null,
   "metadata": {},
   "outputs": [],
   "source": [
    "# Type your code here\n"
   ]
  },
  {
   "cell_type": "markdown",
   "metadata": {},
   "source": [
    "Slicing or indexing the DataFrame based on a conditional is also possible. For example, to get only the rows for which the height is larger than 180 cm:"
   ]
  },
  {
   "cell_type": "code",
   "execution_count": null,
   "metadata": {},
   "outputs": [],
   "source": [
    "idx = df['height'] > 180\n",
    "dfsub = df.loc[idx]\n",
    "dfsub"
   ]
  },
  {
   "cell_type": "markdown",
   "metadata": {},
   "source": [
    "Summary statistics are quickly obtained using the `describe` function."
   ]
  },
  {
   "cell_type": "code",
   "execution_count": null,
   "metadata": {},
   "outputs": [],
   "source": [
    "df.describe()"
   ]
  },
  {
   "cell_type": "markdown",
   "metadata": {},
   "source": [
    "Saving the DataFrame to an Excel file is easy using the `to_excel` function."
   ]
  },
  {
   "cell_type": "code",
   "execution_count": null,
   "metadata": {},
   "outputs": [],
   "source": [
    "df.to_excel(\"hwb.xlsx\")"
   ]
  },
  {
   "cell_type": "markdown",
   "metadata": {},
   "source": [
    "Importing the data from Excel is also easy (using the `read_excel` function). We'll explore these in later sessions in more detail."
   ]
  },
  {
   "cell_type": "markdown",
   "metadata": {},
   "source": [
    "## Data types\n",
    "\n",
    "The data used above could just as well have been handled by an array because it only involved numbers. In a DataFrame, it is possible to have mulitple data types. In the example below, one of the lengths is a string. This is a very simplistic example, but it may occur importing data from a file (for which Pandas offers many options)."
   ]
  },
  {
   "cell_type": "code",
   "execution_count": null,
   "metadata": {},
   "outputs": [],
   "source": [
    "new_s = pd.Series(\n",
    "    data=[150, 155, 164, 174, 183, 189, 192, '192'], \n",
    "    index=[11, 12, 13, 14, 15, 16, 17, 18],\n",
    ")\n",
    "new_s"
   ]
  },
  {
   "cell_type": "markdown",
   "metadata": {},
   "source": [
    "Converting the lenghts to inches will result in a `TypeError` because a string can't be multiplied by a floating point number."
   ]
  },
  {
   "cell_type": "code",
   "execution_count": null,
   "metadata": {},
   "outputs": [],
   "source": [
    "new_s * 0.3937"
   ]
  },
  {
   "cell_type": "markdown",
   "metadata": {},
   "source": [
    "A way to avoid this is to try and convert all data to a number using the `to_numeric` function."
   ]
  },
  {
   "cell_type": "code",
   "execution_count": null,
   "metadata": {},
   "outputs": [],
   "source": [
    "new_s = pd.to_numeric(new_s)\n",
    "new_s * 0.3937"
   ]
  },
  {
   "cell_type": "markdown",
   "metadata": {},
   "source": [
    "***Exercise 3*** Execute the code cell below and inspect the output. Explain what happens."
   ]
  },
  {
   "cell_type": "code",
   "execution_count": null,
   "metadata": {},
   "outputs": [],
   "source": [
    "new_s = new_s.astype(str)\n",
    "new_s * 2"
   ]
  }
 ],
 "metadata": {
  "kernelspec": {
   "display_name": "Python 3 (ipykernel)",
   "language": "python",
   "name": "python3"
  },
  "language_info": {
   "codemirror_mode": {
    "name": "ipython",
    "version": 3
   },
   "file_extension": ".py",
   "mimetype": "text/x-python",
   "name": "python",
   "nbconvert_exporter": "python",
   "pygments_lexer": "ipython3",
   "version": "3.9.17"
  }
 },
 "nbformat": 4,
 "nbformat_minor": 4
}
