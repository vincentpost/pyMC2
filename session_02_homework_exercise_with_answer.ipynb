{
 "cells": [
  {
   "attachments": {},
   "cell_type": "markdown",
   "metadata": {},
   "source": [
    "# Session 2 homework\n",
    "\n",
    "Study the <A href=\"https://python-sa-gwdata.readthedocs.io/en/latest/webservices.html#getpwasearchdata\">online documentation of the `GetPWASearchData` command</A> to obtain the drillhole data for a given prescribed wells area (PWA) in South Australia. Use the command to download the data for the McLaren Vale PWA. Store the data in a DataFrame and create a for loop to display the mean TDS (total dissolved solids) value for each aquifer separately. Also save the DataFrame to a csv file.\n",
    "\n",
    "*Hint: The aquifer name is stored in the column 'AQ_MON' and a list of unique values can be obtained by calling the Pandas method `unique`. The TDS values are (not surprisingly) in the column named 'TDS'.*"
   ]
  },
  {
   "cell_type": "code",
   "execution_count": null,
   "metadata": {},
   "outputs": [],
   "source": [
    "import pandas as pd\n",
    "import requests"
   ]
  },
  {
   "cell_type": "markdown",
   "metadata": {},
   "source": [
    "Not part of the homework but the following two cells get the names of the PWAs."
   ]
  },
  {
   "cell_type": "code",
   "execution_count": null,
   "metadata": {},
   "outputs": [],
   "source": [
    "base_url = \"https://www.waterconnect.sa.gov.au/_layouts/15/dfw.sharepoint.wdd/WDDDMS.ashx/\"\n",
    "url = base_url + \"GetAdvancedListsData\"\n",
    "\n",
    "response = requests.get(url)"
   ]
  },
  {
   "cell_type": "code",
   "execution_count": null,
   "metadata": {},
   "outputs": [],
   "source": [
    "data = response.json()\n",
    "print(data.keys())\n",
    "pwa_names = [value.get('V') for value in data[\"PrescribedArea\"]]"
   ]
  },
  {
   "cell_type": "markdown",
   "metadata": {},
   "source": [
    "First use `GetPWASearchData` to get the drillhole data"
   ]
  },
  {
   "cell_type": "code",
   "execution_count": null,
   "metadata": {},
   "outputs": [],
   "source": [
    "base_url = \"https://www.waterconnect.sa.gov.au/_layouts/15/dfw.sharepoint.wdd/WDDDMS.ashx/\"\n",
    "url = base_url + \"GetPWASearchData\"\n",
    "rest_params = {\"PWA\": \"McLaren Vale\"}\n",
    "\n",
    "response = requests.get(url, params=rest_params)"
   ]
  },
  {
   "cell_type": "markdown",
   "metadata": {},
   "source": [
    "Convert to a DataFrame"
   ]
  },
  {
   "cell_type": "code",
   "execution_count": null,
   "metadata": {},
   "outputs": [],
   "source": [
    "data = response.json()\n",
    "df = pd.json_normalize(data)\n",
    "df.to_excel(\"drillhole_data_mclaren_vale.xlsx\", index=False)"
   ]
  },
  {
   "cell_type": "markdown",
   "metadata": {},
   "source": [
    "Loop over the unique aquifer names, slice the DataFrame and call `mean`."
   ]
  },
  {
   "cell_type": "code",
   "execution_count": null,
   "metadata": {},
   "outputs": [],
   "source": [
    "aquifer_names = df[\"AQ_MON\"].unique()\n",
    "for aquifer_name in aquifer_names:\n",
    "    idx = df[\"AQ_MON\"] == aquifer_name\n",
    "    dfsub = df.loc[idx, \"TDS\"]\n",
    "    print(\"Aquifer:\", aquifer_name, \", mean TDS:\", dfsub.mean())"
   ]
  }
 ],
 "metadata": {
  "kernelspec": {
   "display_name": "geopandas_env",
   "language": "python",
   "name": "python3"
  },
  "language_info": {
   "codemirror_mode": {
    "name": "ipython",
    "version": 3
   },
   "file_extension": ".py",
   "mimetype": "text/x-python",
   "name": "python",
   "nbconvert_exporter": "python",
   "pygments_lexer": "ipython3",
   "version": "3.9.17"
  },
  "orig_nbformat": 4
 },
 "nbformat": 4,
 "nbformat_minor": 2
}
