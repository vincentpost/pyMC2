{
 "cells": [
  {
   "attachments": {},
   "cell_type": "markdown",
   "metadata": {},
   "source": [
    "# Plot water levels"
   ]
  },
  {
   "cell_type": "code",
   "execution_count": null,
   "metadata": {},
   "outputs": [],
   "source": [
    "import geopandas as gpd\n",
    "import matplotlib.pyplot as plt\n",
    "import pandas as pd\n",
    "from pathlib import Path\n",
    "import requests"
   ]
  },
  {
   "cell_type": "markdown",
   "metadata": {},
   "source": [
    "An Excel file with multiple worksheets can be opened with `sheet_name=None`, which results in a dictionary containing the worksheet names as keys and the worksheet data as DataFrames."
   ]
  },
  {
   "cell_type": "code",
   "execution_count": null,
   "metadata": {},
   "outputs": [],
   "source": [
    "fpath = \"wl_data.xlsx\"\n",
    "\n",
    "df_dict = pd.read_excel(\n",
    "    fpath, \n",
    "    sheet_name=None,\n",
    "    index_col=0,\n",
    "    parse_dates=True,\n",
    ")"
   ]
  },
  {
   "cell_type": "markdown",
   "metadata": {},
   "source": [
    "Using a `for` loop we can iterate over the worksheets and create a plot for each of them. Note the `try ... except` block to ensure that the `for` loop continues for any DataFrame that does not have a reduced standing water level (RSWL) column."
   ]
  },
  {
   "cell_type": "code",
   "execution_count": null,
   "metadata": {},
   "outputs": [],
   "source": [
    "\n",
    "fig, ax = plt.subplots()\n",
    "Path('png').mkdir(exist_ok=True)\n",
    "\n",
    "for sheet_name, df in df_dict.items():\n",
    "    print(sheet_name)\n",
    "\n",
    "    ax.cla()\n",
    "\n",
    "    try:\n",
    "        ax.plot(df[\"RSWL\"])\n",
    "        ax.set_ylabel(\"RSWL (m)\")\n",
    "        ax.set_title(sheet_name)\n",
    "        fig.savefig(f\"png/{sheet_name}.png\")\n",
    "    except KeyError:\n",
    "        pass"
   ]
  }
 ],
 "metadata": {
  "kernelspec": {
   "display_name": "geopandas_env",
   "language": "python",
   "name": "python3"
  },
  "language_info": {
   "codemirror_mode": {
    "name": "ipython",
    "version": 3
   },
   "file_extension": ".py",
   "mimetype": "text/x-python",
   "name": "python",
   "nbconvert_exporter": "python",
   "pygments_lexer": "ipython3",
   "version": "3.9.17"
  },
  "orig_nbformat": 4
 },
 "nbformat": 4,
 "nbformat_minor": 2
}
