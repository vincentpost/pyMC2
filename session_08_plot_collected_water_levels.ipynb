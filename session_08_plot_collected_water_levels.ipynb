{
 "cells": [
  {
   "attachments": {},
   "cell_type": "markdown",
   "metadata": {},
   "source": [
    "# Get water levels"
   ]
  },
  {
   "cell_type": "code",
   "execution_count": 1,
   "metadata": {},
   "outputs": [],
   "source": [
    "import geopandas as gpd\n",
    "import matplotlib.pyplot as plt\n",
    "import pandas as pd\n",
    "from pathlib import Path\n",
    "import requests"
   ]
  },
  {
   "cell_type": "code",
   "execution_count": null,
   "metadata": {},
   "outputs": [],
   "source": [
    "fig, ax = plt.subplots()\n",
    "ax.plot(df.index, df[\"RSWL\"], '.-')\n",
    "ax.set_title(\"WLG051\")\n",
    "ax.set_xlabel(\"Year\")\n",
    "ax.set_ylabel(\"RSWL\")"
   ]
  },
  {
   "cell_type": "code",
   "execution_count": 6,
   "metadata": {},
   "outputs": [],
   "source": [
    "base_url = \"https://www.waterconnect.sa.gov.au/_layouts/15/dfw.sharepoint.wdd/WDDDMS.ashx/\"\n",
    "\n",
    "url = base_url + \"GetGridData\"\n",
    "rest_params = {\"Box\": \"-35.25,138.55,-35.20,138.6\"}\n",
    "response = requests.get(url, params=rest_params)\n",
    "\n",
    "# Convert to DataFrame\n",
    "data = response.json()\n",
    "df = pd.json_normalize(data)"
   ]
  },
  {
   "cell_type": "code",
   "execution_count": 7,
   "metadata": {},
   "outputs": [],
   "source": [
    "df2 = df.dropna(subset=\"OBSNUMBER\")\n",
    "df2 = df2.loc[df2[\"WATER\"] == 'Y']\n",
    "\n",
    "writer = pd.ExcelWriter(\"wl_data.xlsx\")\n",
    "for dhno in df2[\"DHNO\"]:\n",
    "    print(dhno)\n",
    "    url = base_url + \"GetWaterLevelDetails\"\n",
    "    rest_params = {\"DHNO\": dhno}\n",
    "\n",
    "    response = requests.get(url, params=rest_params)\n",
    "    data = response.json()\n",
    "\n",
    "    dfwl = pd.json_normalize(data)\n",
    "    dfwl.index = pd.to_datetime(dfwl[\"OBS_DATE\"])\n",
    "\n",
    "    dfwl.to_excel(writer, sheet_name=str(dhno))\n",
    "    \n",
    "writer.close()"
   ]
  },
  {
   "cell_type": "code",
   "execution_count": null,
   "metadata": {},
   "outputs": [],
   "source": [
    "\n",
    "\n",
    "lat_long_coordinates = gpd.points_from_xy(df[\"LON\"], df[\"LAT\"])\n",
    "gdf = gpd.GeoDataFrame(\n",
    "    df, \n",
    "    geometry=lat_long_coordinates, \n",
    "    crs=\"EPSG:4326\",\n",
    ")\n",
    "\n",
    "Path('shp').mkdir(exist_ok=True)\n",
    "gdf.to_file(\"shp/borehole_data.shp\")"
   ]
  }
 ],
 "metadata": {
  "kernelspec": {
   "display_name": "geopandas_env",
   "language": "python",
   "name": "python3"
  },
  "language_info": {
   "codemirror_mode": {
    "name": "ipython",
    "version": 3
   },
   "file_extension": ".py",
   "mimetype": "text/x-python",
   "name": "python",
   "nbconvert_exporter": "python",
   "pygments_lexer": "ipython3",
   "version": "3.9.16"
  },
  "orig_nbformat": 4
 },
 "nbformat": 4,
 "nbformat_minor": 2
}
