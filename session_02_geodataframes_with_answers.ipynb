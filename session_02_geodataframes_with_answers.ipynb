{
 "cells": [
  {
   "attachments": {},
   "cell_type": "markdown",
   "metadata": {},
   "source": [
    "# GeoDataFrames\n",
    "\n",
    "This session provides an introduction to GeoDataFrames that link spatial attributes to the data in a Pandas DataFrame. It is a very powerful package but unfortunately it is plagued by installation issues. Along the way we'll also learn how to download data from online databases and store them in a DataFrame.\n",
    "\n",
    "We'll start by importing some of the general Python packages. During this session we'll make use of the pathlib library. It provides an object-oriented approach to represent filesystem paths and works across operating systems."
   ]
  },
  {
   "cell_type": "code",
   "execution_count": null,
   "metadata": {},
   "outputs": [],
   "source": [
    "import matplotlib.pyplot as plt\n",
    "import pandas as pd\n",
    "from pathlib import Path"
   ]
  },
  {
   "attachments": {},
   "cell_type": "markdown",
   "metadata": {},
   "source": [
    "## Downloading data from a REST API\n",
    "\n",
    "In this next exercise we will pull online data into a Pandas DataFrame. We'll make use of the documentation of a library was developed by Kent Inverarity for obtaining groundwater data from the South Australian WaterConnect database, see\n",
    "<A href=\"https://github.com/kinverarity1/python-sa-gwdata\">https://github.com/kinverarity1/python-sa-gwdata</A>. The key command behind both libraries is the `get` method of the `requests` package, which will attempt to retrieve data from a specified source. The request is made by passing an url with a specifc stucture, which is defined by the application programming interface (API) of the service that is being queried. Several protocols exists, with the most common one today being the representational state transfer architectural style (REST), and an API that conforms to this standard is called a RESTful API.\n",
    "\n",
    "Without providing any more technical details, let's just try to see how this works. Click the following link and observe the information that appears in your web browser.\n",
    "\n",
    "<A href=\"https://www.waterconnect.sa.gov.au/_layouts/15/dfw.sharepoint.wdd/WDDDMS.ashx/GetObswellNumberSearchData?OBSNUMBER=WLG051\">https://www.waterconnect.sa.gov.au/_layouts/15/dfw.sharepoint.wdd/WDDDMS.ashx/GetObswellNumberSearchData?OBSNUMBER=WLG051</A>\n",
    "\n",
    "The data obtained appear in the form of a table and it can be seen that there are several fields. This is not very useful yet, but it gives you an idea of the information that is sent when you use the `get` method. If you look at the above url, it is possible to recognise three parts:\n",
    " * a base url: https://www.waterconnect.sa.gov.au/_layouts/15/dfw.sharepoint.wdd/WDDDMS.ashx/\n",
    " * a command: 'GetObswellNumberSearchData'\n",
    " * a section with parameters for the command: 'OBSNUMBER=WLG051'\n",
    "\n",
    "From this we can infer that this url requests to search data based on the Obswel number, which in this case is specified to be WLG051 (not entirely coincidentally, this is the monitoring bore right next to the farm dam).\n",
    "\n",
    "Now let's do this in Python using the `get` method. We create a variable `url`, which combines the base url and the command and we pass the command parameters as a dictionary."
   ]
  },
  {
   "cell_type": "code",
   "execution_count": null,
   "metadata": {},
   "outputs": [],
   "source": [
    "import requests\n",
    "\n",
    "base_url = \"https://www.waterconnect.sa.gov.au/_layouts/15/dfw.sharepoint.wdd/WDDDMS.ashx/\"\n",
    "url = base_url + \"GetObswellNumberSearchData\"\n",
    "rest_params = {\"OBSNUMBER\": \"WLG051\"}\n",
    "\n",
    "response = requests.get(url, params=rest_params)"
   ]
  },
  {
   "attachments": {},
   "cell_type": "markdown",
   "metadata": {},
   "source": [
    "The returned data are stored in `response`. This is an object that contains information about the request and, if the request was successful, the data in JSON format (note that this differs depending on the API, other services may use a different format, e.g. csv). JSON is shorthand for JavaScript Object Notation and is a common data-interchange format. Although it is intended to be readable for humans, it is not as convenient as a DataFrame, so the next code cell converts the data to a DataFrame called `df`. "
   ]
  },
  {
   "cell_type": "code",
   "execution_count": null,
   "metadata": {},
   "outputs": [],
   "source": [
    "data = response.json()\n",
    "df = pd.json_normalize(data)"
   ]
  },
  {
   "attachments": {},
   "cell_type": "markdown",
   "metadata": {},
   "source": [
    "Inspecting the DataFrame in the variable explorer shows that it has a column 'DHNO', which stands for drillhole number. We can use this number in combination with the API command 'GetWaterLevelDetails' to get the water level time series for this well."
   ]
  },
  {
   "cell_type": "code",
   "execution_count": null,
   "metadata": {},
   "outputs": [],
   "source": [
    "\n",
    "dhno = df[\"DHNO\"]\n",
    "url = base_url + \"GetWaterLevelDetails\"\n",
    "rest_params = {\"DHNO\": dhno}\n",
    "\n",
    "response = requests.get(url, params=rest_params)"
   ]
  },
  {
   "attachments": {},
   "cell_type": "markdown",
   "metadata": {},
   "source": [
    "Once again, we can convert the JSON data to a DataFrame. The data in the column 'OBS_DATE' can be converted to a datetime format, and be used as the index of the DataFrame."
   ]
  },
  {
   "cell_type": "code",
   "execution_count": null,
   "metadata": {},
   "outputs": [],
   "source": [
    "data = response.json()\n",
    "df = pd.json_normalize(data)\n",
    "df.index = pd.to_datetime(df[\"OBS_DATE\"])"
   ]
  },
  {
   "attachments": {},
   "cell_type": "markdown",
   "metadata": {},
   "source": [
    "Plotting the data is then a breeze of course..."
   ]
  },
  {
   "cell_type": "code",
   "execution_count": null,
   "metadata": {},
   "outputs": [],
   "source": [
    "fig, ax = plt.subplots()\n",
    "ax.plot(df.index, df[\"RSWL\"], '.-')\n",
    "ax.set_title(\"WLG051\")\n",
    "ax.set_ylabel(\"Year\")\n",
    "ax.set_ylabel(\"RSWL\")"
   ]
  },
  {
   "attachments": {},
   "cell_type": "markdown",
   "metadata": {},
   "source": [
    "The examples above demonstrate the use of the `get` method. Libraries like <A href=\"https://github.com/kinverarity1/python-sa-gwdata\">python-sa-gwdata</A> and <A href=\"https://github.com/ArtesiaWater/hydropandas\">Hydropandas</A> wrap Python code around this method to provide a user-friendly way to obtain data from a database. If you work with chemicals then <A href=\"https://pubchempy.readthedocs.io/en/latest/\">PubChemPy</A> is another interesting package to look at, as it allows you to access the data in the <A href=\"https://pubchem.ncbi.nlm.nih.gov/\">PubChem</A> database. More RESTful APIs exist, and their number is growing."
   ]
  },
  {
   "cell_type": "markdown",
   "metadata": {},
   "source": [
    "***Exercise***: The following command requests the molecular formula and weight of PFOA (Perfluorooctanoic acid) from the PubChem database in json format:\n",
    "\n",
    "https://pubchem.ncbi.nlm.nih.gov/rest/pug/compound/name/pfoa/property/MolecularFormula,MolecularWeight/json\n",
    "\n",
    "Use `requests.get` to retrieve this record and store the molecular weight in a separate variable. Note that you can pass the above url directly, there is no need to define parameters (because of the way the PUG REST works, see <A href=\"https://pubchem.ncbi.nlm.nih.gov/docs/pug-rest#section=Compound-Property-Tables\">the documentation page</A>).\n",
    "\n",
    "*Hint: The json part of the response is a nested dictionary which contains a list with yet another dictionary (rather convoluted!). The structure of the dictionary can be seen by looking at the variable in the variables explorer. In order to pull out the molecular weigth you have to do some slicing/indexing.*"
   ]
  },
  {
   "cell_type": "code",
   "execution_count": null,
   "metadata": {},
   "outputs": [],
   "source": [
    "# Pass this url to the get function (no need to pass parameters)\n",
    "url = \"https://pubchem.ncbi.nlm.nih.gov/rest/pug/compound/name/pfoa/property/MolecularFormula,MolecularWeight/json\"\n",
    "\n",
    "response = requests.get(url)\n",
    "data = response.json()\n",
    "mw = data['PropertyTable']['Properties'][0]['MolecularWeight']"
   ]
  },
  {
   "attachments": {},
   "cell_type": "markdown",
   "metadata": {},
   "source": [
    "## PyQGIS \n",
    "QGIS (and ArcGIS) offers Python support via the QGIS Python API. Extensive documentation is provided <A href=\"https://docs.qgis.org/3.28/en/docs/pyqgis_developer_cookbook/index.html#\">here</A>. The example below will use GeoPandas to create a shapefile of some data downloaded from  WaterConnect. The shapefile will be imported into QGIS and PyQGIS will be used to create three separate layers showing the boreholes with chemistry, water (level) and salinity data, respectively. The PyQGIS interface will also be used to set a different marker symbol colour for each of the three layers.\n",
    "\n",
    "Let's start by using the WaterConnect API to download the availabe boreholes in a rectangular area near McLarenVale, SA."
   ]
  },
  {
   "cell_type": "code",
   "execution_count": null,
   "metadata": {},
   "outputs": [],
   "source": [
    "url = base_url + \"GetGridData\"\n",
    "rest_params = {\"Box\": \"-35.25,138.55,-35.20,138.6\"}\n",
    "response = requests.get(url, params=rest_params)\n",
    "\n",
    "# Convert to DataFrame\n",
    "data = response.json()\n",
    "df = pd.json_normalize(data)"
   ]
  },
  {
   "attachments": {},
   "cell_type": "markdown",
   "metadata": {},
   "source": [
    "With Geopandas, the DataFrame can be converted to a shapefile with just a few lines of code. First the data in the columns 'LON' and 'LAT' will be used to create the coordinate data. Together with the DataFrame `df` the coordinate data in `lat_long_coordinates` is used to create a GeoDataFrame (note that the EPSG code 4326 is for lat/long coordinates based on the World Geodetic System 1984 ensemble (WSG84)). The method `to_file` saves the shapefile to disk, and the `mkdir` call ensures that the subdirectory 'shp' exists."
   ]
  },
  {
   "cell_type": "code",
   "execution_count": null,
   "metadata": {},
   "outputs": [],
   "source": [
    "import geopandas as gpd\n",
    "\n",
    "lat_long_coordinates = gpd.points_from_xy(df[\"LON\"], df[\"LAT\"])\n",
    "gdf = gpd.GeoDataFrame(\n",
    "    df, \n",
    "    geometry=lat_long_coordinates, \n",
    "    crs=\"EPSG:4326\",\n",
    ")\n",
    "\n",
    "Path('shp').mkdir(exist_ok=True)\n",
    "gdf.to_file(\"shp/borehole_data.shp\")"
   ]
  },
  {
   "cell_type": "markdown",
   "metadata": {},
   "source": [
    "If running the code in the above cell results in an error message, you can solve it by installing the `pyogrio` by entering the following command lines in the Anaconda Prompt (note that you have to open it from the Windows Start menu, the first line below activates the geopandas_env environment):\n",
    "\n",
    "`conda activate geopandas_env`\n",
    "\n",
    "`conda install -c conda-forge pyogrio`"
   ]
  },
  {
   "attachments": {},
   "cell_type": "markdown",
   "metadata": {},
   "source": [
    "The code below will only work inside the QGIS Python editor (as will be demonstrated during the session). Note that the information on the object model for QGIS is extensive. For example, the documentation for a map layer object can be found <A href=\"https://api.qgis.org/api/classQgsMapLayer.html\">here</A> and there are many, many more (see <A href=\"https://api.qgis.org/api/modules.html\">https://api.qgis.org/api/modules.html</A>)."
   ]
  },
  {
   "cell_type": "code",
   "execution_count": null,
   "metadata": {},
   "outputs": [],
   "source": [
    "current_project = QgsProject.instance()\n",
    "\n",
    "layer = current_project.mapLayersByName('borehole_data')[0]\n",
    "\n",
    "field_names = [\"CHEM\", \"WATER\", \"SAL\"]\n",
    "\n",
    "for field_name in field_names:\n",
    "    new_layer = layer.clone()\n",
    "    new_layer.setName(f'{field_name}_data')\n",
    "    new_layer.setSubsetString(f'\"{field_name}\" = \\'Y\\'')\n",
    "    current_project.addMapLayer(new_layer)\n",
    "\n",
    "colors = [\"red\", \"green\", \"blue\"] \n",
    "for field_name, color in zip(field_names, colors):\n",
    "    layer = current_project.mapLayersByName(f'{field_name}_data')[0]\n",
    "    layerRenderer= layer.renderer()\n",
    "    mSingleRenderer = QgsSingleSymbolRenderer.convertFromRenderer(layerRenderer)\n",
    "\n",
    "    new_sym = QgsMarkerSymbol.createSimple({\"color\": color})\n",
    "    mSingleRenderer.setSymbol(new_sym)\n",
    "    layer.setRenderer(mSingleRenderer)"
   ]
  }
 ],
 "metadata": {
  "kernelspec": {
   "display_name": "geopandas_env",
   "language": "python",
   "name": "python3"
  },
  "language_info": {
   "codemirror_mode": {
    "name": "ipython",
    "version": 3
   },
   "file_extension": ".py",
   "mimetype": "text/x-python",
   "name": "python",
   "nbconvert_exporter": "python",
   "pygments_lexer": "ipython3",
   "version": "3.9.17"
  },
  "orig_nbformat": 4
 },
 "nbformat": 4,
 "nbformat_minor": 2
}
