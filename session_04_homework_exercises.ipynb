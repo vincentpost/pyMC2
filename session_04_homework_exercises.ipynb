{
 "cells": [
  {
   "cell_type": "markdown",
   "metadata": {},
   "source": [
    "## Homework exercise 1\n",
    "\n",
    "Modify the definition of the Course class by adding a method `remove_person` that removes a person from either the `_attendees` or `_instructors` lists. Test your code by adding some persons first, then list the people in the course using the `list_persons` method, then call the new `remove_person` method, followed by the `list_persons` method once more to verify that the function worked as intended.\n",
    "\n",
    "*Hint*: To remove an item from a list use its `pop` method. To find the item's position in the list, use the`index` method."
   ]
  },
  {
   "cell_type": "code",
   "execution_count": null,
   "metadata": {},
   "outputs": [],
   "source": [
    "class Person:\n",
    "    def __init__(self, name, age, nationality):\n",
    "        self.name = name\n",
    "        self.age = age\n",
    "        self.nationality = nationality\n",
    "    \n",
    "    def introduce_yourself(self):\n",
    "        print(f\"Hello, my name is {self.name} and I am {self.age} years old.\")\n",
    "    \n",
    "    def __str__(self):\n",
    "        return f\"Name: {self.name}, age: {self.age}, nationality: {self.nationality}\"\n",
    "        \n",
    "# Modify the code below\n",
    "\n",
    "class Course:\n",
    "    def __init__(self):\n",
    "        self._attendees = []\n",
    "        self._instructors = []\n",
    "    \n",
    "    def add_person(self, person, role=\"attendee\"):\n",
    "        if role == \"attendee\":\n",
    "            self._attendees.append(person)\n",
    "        elif role == \"instructor\":\n",
    "            self._instructors.append(person)\n",
    "\n",
    "    def remove_person(self, person):\n",
    "        if person in self._attendees:\n",
    "            i = self._attendees.index(person)\n",
    "            person_removed = self._attendees.pop(i)\n",
    "            \n",
    "        if person in self._instructors:\n",
    "            i = self._instructors.index(person)\n",
    "            person_removed = self._instructors.pop(i)\n",
    "        \n",
    "        print(f\"{person_removed.name} was removed from the course.\")\n",
    "\n",
    "    def list_persons(self):\n",
    "        print(\"Attendees\")\n",
    "        for person in self._attendees:\n",
    "            print('\\t', person)\n",
    "        print(\"Instructors\")\n",
    "        for person in self._instructors:\n",
    "            print('\\t', person)"
   ]
  },
  {
   "cell_type": "code",
   "execution_count": null,
   "metadata": {},
   "outputs": [],
   "source": [
    "# Initialize the class, add some persons and call list_persons to \n",
    "# show who's in the course\n"
   ]
  },
  {
   "cell_type": "code",
   "execution_count": null,
   "metadata": {},
   "outputs": [],
   "source": [
    "# Remove Michael from the course (sorry Michael...)\n"
   ]
  },
  {
   "cell_type": "markdown",
   "metadata": {},
   "source": [
    "## Homework exercise 2 (optional)\n",
    "\n",
    "Study the definition of the Person and Course classes as discussed during the online session. Define a class for a well that is analogous to the Person class. The well class should have the following properties: x and y coordinates, an extraction rate and a casing radius. Also define a class for a well field, which can contain multiple wells. Define a __str__ method for both classes that produces an informative string about the class properties. Check if your code runs properly by creating instances of your classes.\n",
    "Note, you do not have to go with the well and well field classes: You can also come up with an idea of your own. For example, a collection of locks and weirs in a river, or streams within a catchment. Anything goes, the main aim is to practice the definition of classes."
   ]
  },
  {
   "cell_type": "code",
   "execution_count": null,
   "metadata": {},
   "outputs": [],
   "source": [
    "# Type your code here"
   ]
  }
 ],
 "metadata": {
  "kernelspec": {
   "display_name": "Python 3 (ipykernel)",
   "language": "python",
   "name": "python3"
  },
  "language_info": {
   "codemirror_mode": {
    "name": "ipython",
    "version": 3
   },
   "file_extension": ".py",
   "mimetype": "text/x-python",
   "name": "python",
   "nbconvert_exporter": "python",
   "pygments_lexer": "ipython3",
   "version": "3.9.16"
  }
 },
 "nbformat": 4,
 "nbformat_minor": 4
}
